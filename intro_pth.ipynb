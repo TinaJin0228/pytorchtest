{
 "cells": [
  {
   "cell_type": "code",
   "execution_count": 1,
   "metadata": {},
   "outputs": [],
   "source": [
    "import torch\n",
    "import torchvision\n",
    "import numpy as np"
   ]
  },
  {
   "cell_type": "code",
   "execution_count": null,
   "metadata": {},
   "outputs": [],
   "source": [
    "a = torch.Tensor([1.])"
   ]
  },
  {
   "cell_type": "code",
   "execution_count": null,
   "metadata": {},
   "outputs": [],
   "source": [
    "# tensor initialization\n",
    "# directly from data\n",
    "data = [[1,2],[3,4]]\n",
    "x_data = torch.tensor(data)\n",
    "# from a numpy array\n",
    "np_array = np.array(data)\n",
    "x_np = torch.from_numpy(np_array)\n",
    "# from another tensor\n",
    "x_ones = torch.ones_like(x_data)\n",
    "print(f\"Ones Tensor:\\n{x_ones}\\n\")\n",
    "\n",
    "x_rand = torch.rand_like(x_data,dtype = torch.float)\n",
    "print(f\"Random Tensor: \\n{x_rand}\\n\")\n",
    "\n",
    "# with random or constant values:\n",
    "# shape is the tuple of tensor dimensions. In the functions below, it determines the dimensionality of the output tensor.\n",
    "shape = (2,3)\n",
    "rand_tensor = torch.rand(shape)\n",
    "ones_tensor = torch.ones(shape)\n",
    "zeros_tensor = torch.zeros(shape)\n",
    "\n",
    "print(f\"Random Tensor:\\n{rand_tensor}\\n\")\n",
    "print(f\"Ones Tensor:\\n{ones_tensor}\\n\")\n",
    "print(f\"Zeros Tensor:\\n{zeros_tensor}\\n\")\n"
   ]
  },
  {
   "cell_type": "code",
   "execution_count": 2,
   "metadata": {},
   "outputs": [
    {
     "name": "stdout",
     "output_type": "stream",
     "text": [
      "shape of tensor:torch.Size([2, 3])\n",
      "datatype of tensor:torch.float32\n",
      "device tensor is stored on:cpu\n"
     ]
    }
   ],
   "source": [
    "# tensor attributes: shape, device, datatype\n",
    "tensor = torch.rand(2,3)\n",
    "print(f\"shape of tensor:{tensor.shape}\")\n",
    "print(f\"datatype of tensor:{tensor.dtype}\")\n",
    "print(f\"device tensor is stored on:{tensor.device}\")"
   ]
  },
  {
   "cell_type": "code",
   "execution_count": 3,
   "metadata": {},
   "outputs": [
    {
     "name": "stdout",
     "output_type": "stream",
     "text": [
      "11.6\n",
      "1.12.0+cu116\n"
     ]
    }
   ],
   "source": [
    "print(torch.version.cuda)\n",
    "print(torch.__version__)"
   ]
  },
  {
   "cell_type": "code",
   "execution_count": 4,
   "metadata": {},
   "outputs": [
    {
     "name": "stdout",
     "output_type": "stream",
     "text": [
      "Device tensor is stored on: cuda:0\n"
     ]
    }
   ],
   "source": [
    "# tensor oprations\n",
    "# comprehensively described here: https://pytorch.org/docs/stable/torch.html\n",
    "\n",
    "# move tensor to GPU if available:\n",
    "if torch.cuda.is_available():\n",
    "    tensor = tensor.to('cuda')\n",
    "    print(f\"Device tensor is stored on: {tensor.device}\")"
   ]
  },
  {
   "cell_type": "code",
   "execution_count": 8,
   "metadata": {},
   "outputs": [
    {
     "name": "stdout",
     "output_type": "stream",
     "text": [
      "modified tensor:\n",
      "tensor([[1., 1., 1., 1.],\n",
      "        [3., 3., 3., 3.],\n",
      "        [1., 1., 1., 1.],\n",
      "        [1., 1., 1., 1.]])\n",
      "\n",
      "tensor([[1., 1., 1., 1.],\n",
      "        [3., 3., 3., 3.],\n",
      "        [1., 1., 1., 1.],\n",
      "        [1., 1., 1., 1.]])\n"
     ]
    }
   ],
   "source": [
    "# numpy-like usage of tensor\n",
    "tensor = torch.ones(4,4)\n",
    "tensor[1,:] = 3\n",
    "print(f\"modified tensor:\\n{tensor}\\n\")"
   ]
  },
  {
   "cell_type": "code",
   "execution_count": 18,
   "metadata": {},
   "outputs": [
    {
     "name": "stdout",
     "output_type": "stream",
     "text": [
      "tensor([[1., 1., 1., 1., 1., 1., 1., 1., 1., 1., 1., 1.],\n",
      "        [3., 3., 3., 0., 3., 3., 3., 0., 3., 3., 3., 0.],\n",
      "        [1., 1., 1., 1., 1., 1., 1., 1., 1., 1., 1., 1.],\n",
      "        [1., 1., 1., 1., 1., 1., 1., 1., 1., 1., 1., 1.]])\n"
     ]
    }
   ],
   "source": [
    "tensor[1][3] = 0\n",
    "t2 = torch.cat([tensor,tensor,tensor],dim=1)\n",
    "print(t2)"
   ]
  },
  {
   "cell_type": "code",
   "execution_count": 19,
   "metadata": {},
   "outputs": [
    {
     "name": "stdout",
     "output_type": "stream",
     "text": [
      "tensor.mul(tensor)\n",
      "tensor([[1., 1., 1., 1.],\n",
      "        [9., 9., 9., 0.],\n",
      "        [1., 1., 1., 1.],\n",
      "        [1., 1., 1., 1.]])\n",
      "\n",
      "tensor * tensor \n",
      " tensor([[1., 1., 1., 1.],\n",
      "        [9., 9., 9., 0.],\n",
      "        [1., 1., 1., 1.],\n",
      "        [1., 1., 1., 1.]])\n",
      "\n"
     ]
    }
   ],
   "source": [
    "# multiplications of tensors\n",
    "# the two methods below are equivalent\n",
    "# element-wise product\n",
    "print(f\"tensor.mul(tensor)\\n{tensor.mul(tensor)}\\n\")\n",
    "# alternative syntax\n",
    "print(f\"tensor * tensor \\n {tensor*tensor}\\n\")"
   ]
  },
  {
   "cell_type": "code",
   "execution_count": 22,
   "metadata": {},
   "outputs": [
    {
     "name": "stdout",
     "output_type": "stream",
     "text": [
      "tensor.matmul(tensor):\n",
      "tensor([[ 6.,  6.,  6.,  3.],\n",
      "        [15., 15., 15.,  6.],\n",
      "        [ 6.,  6.,  6.,  3.],\n",
      "        [ 6.,  6.,  6.,  3.]])\n",
      "\n",
      "tensor @ tensor.T:\n",
      "tensor([[ 6.,  6.,  6.,  3.],\n",
      "        [15., 15., 15.,  6.],\n",
      "        [ 6.,  6.,  6.,  3.],\n",
      "        [ 6.,  6.,  6.,  3.]])\n",
      "\n"
     ]
    }
   ],
   "source": [
    "# matrix multiplication\n",
    "print(f\"tensor.matmul(tensor):\\n{tensor.matmul(tensor)}\\n\")\n",
    "# alternative syntax\n",
    "print(f\"tensor @ tensor:\\n{tensor@tensor}\\n\")"
   ]
  },
  {
   "cell_type": "code",
   "execution_count": 23,
   "metadata": {},
   "outputs": [
    {
     "name": "stdout",
     "output_type": "stream",
     "text": [
      "tensor([[1., 1., 1., 1.],\n",
      "        [3., 3., 3., 0.],\n",
      "        [1., 1., 1., 1.],\n",
      "        [1., 1., 1., 1.]]) \n",
      "\n",
      "tensor([[6., 6., 6., 6.],\n",
      "        [8., 8., 8., 5.],\n",
      "        [6., 6., 6., 6.],\n",
      "        [6., 6., 6., 6.]])\n"
     ]
    }
   ],
   "source": [
    "# in-place operation\n",
    "# operations that have a _ suffix are in-place.for example: x.add_(y), x.copy_(y), x.t_()\n",
    "# in-place operations directly change the content of a tensor without making a copy of it.\n",
    "# In-place operations save some memory, but can be problematic when computing derivatives because of an immediate loss of history.\n",
    "print(tensor,\"\\n\")\n",
    "tensor.add_(5)\n",
    "print(tensor)"
   ]
  },
  {
   "cell_type": "code",
   "execution_count": 25,
   "metadata": {},
   "outputs": [
    {
     "name": "stdout",
     "output_type": "stream",
     "text": [
      "t:tensor([1., 1., 1., 1., 1.])\n",
      "n:[1. 1. 1. 1. 1.]\n",
      "t:tensor([4., 4., 4., 4., 4.])\n",
      "n:[4. 4. 4. 4. 4.]\n"
     ]
    }
   ],
   "source": [
    "# bridge with numpy\n",
    "# Tensors on CPU and NumPy arrays share their underlying memory locations, and changing one will change the other.\n",
    "\n",
    "# tensor to NumPy array\n",
    "t = torch.ones(5)\n",
    "n = t.numpy()\n",
    "print(f\"t:{t}\")\n",
    "print(f\"n:{n}\")\n",
    "# a change in the tensor reflects in the NumPy array\n",
    "t.add_(3)\n",
    "print(f\"t:{t}\")\n",
    "print(f\"n:{n}\")"
   ]
  },
  {
   "cell_type": "code",
   "execution_count": 26,
   "metadata": {},
   "outputs": [
    {
     "name": "stdout",
     "output_type": "stream",
     "text": [
      "t:tensor([2., 2., 2., 2., 2.], dtype=torch.float64)\n",
      "n:[2. 2. 2. 2. 2.]\n"
     ]
    }
   ],
   "source": [
    "# NumPy array to tensor\n",
    "n = np.ones(5)\n",
    "t = torch.from_numpy(n)\n",
    "np.add(n,1,out=n)\n",
    "print(f\"t:{t}\")\n",
    "print(f\"n:{n}\")"
   ]
  },
  {
   "cell_type": "code",
   "execution_count": 27,
   "metadata": {},
   "outputs": [
    {
     "name": "stdout",
     "output_type": "stream",
     "text": [
      "a random tensor r1:tensor([[0.3189, 0.6136],\n",
      "        [0.4418, 0.2580]])\n",
      "another random tensor r2:tensor([[0.2724, 0.6261],\n",
      "        [0.4410, 0.3653]])\n",
      "r3 should be the same with r1tensor([[0.3189, 0.6136],\n",
      "        [0.4418, 0.2580]])\n"
     ]
    }
   ],
   "source": [
    "# seeding in pytorch\n",
    "torch.manual_seed(1000)\n",
    "r1 = torch.rand(2,2)\n",
    "print(f\"a random tensor r1:{r1}\")\n",
    "r2 = torch.rand(2,2)\n",
    "print(f\"another random tensor r2:{r2}\")\n",
    "\n",
    "torch.manual_seed(1000)\n",
    "r3 = torch.rand(2,2)\n",
    "print(f\"r3 should be the same with r1{r3}\")"
   ]
  }
 ],
 "metadata": {
  "kernelspec": {
   "display_name": "Python 3.10.5 64-bit",
   "language": "python",
   "name": "python3"
  },
  "language_info": {
   "codemirror_mode": {
    "name": "ipython",
    "version": 3
   },
   "file_extension": ".py",
   "mimetype": "text/x-python",
   "name": "python",
   "nbconvert_exporter": "python",
   "pygments_lexer": "ipython3",
   "version": "3.10.5"
  },
  "orig_nbformat": 4,
  "vscode": {
   "interpreter": {
    "hash": "25ce29bed60a3e0bbd870304a4fd2eae25598c1eec88a2bcbbe85a0b870cbd3a"
   }
  }
 },
 "nbformat": 4,
 "nbformat_minor": 2
}
